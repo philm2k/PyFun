{
 "cells": [
  {
   "cell_type": "markdown",
   "metadata": {},
   "source": [
    "Source: http://www.quantatrisk.com/2014/12/22/quants-numpy-and-lotto/"
   ]
  },
  {
   "cell_type": "code",
   "execution_count": 1,
   "metadata": {
    "collapsed": true
   },
   "outputs": [],
   "source": [
    "import numpy as np\n",
    "\n",
    "def lotto_numbers():\n",
    "    ok = False\n",
    "    while not ok:\n",
    "        x = np.random.choice(45,6,replace=False)\n",
    "        x.sort()\n",
    "        tmp = np.where(x == 0)\n",
    "        (m, ) = tmp[0].shape\n",
    "        if(m==0):\n",
    "            ok = True\n",
    "    return x"
   ]
  },
  {
   "cell_type": "code",
   "execution_count": 2,
   "metadata": {},
   "outputs": [
    {
     "name": "stdout",
     "output_type": "stream",
     "text": [
      "[ 2 10 12 16 24 39]\n"
     ]
    }
   ],
   "source": [
    "fav = lotto_numbers()\n",
    "print(fav)"
   ]
  },
  {
   "cell_type": "code",
   "execution_count": 3,
   "metadata": {
    "collapsed": true
   },
   "outputs": [],
   "source": [
    "match = False; i = 0"
   ]
  },
  {
   "cell_type": "code",
   "execution_count": 4,
   "metadata": {
    "collapsed": true
   },
   "outputs": [],
   "source": [
    "while not match:\n",
    "    tmp = lotto_numbers()\n",
    "    cmp = (tmp == fav)\n",
    "    i += 1\n",
    "    if cmp.all():\n",
    "        match = True"
   ]
  },
  {
   "cell_type": "code",
   "execution_count": 8,
   "metadata": {},
   "outputs": [
    {
     "name": "stdout",
     "output_type": "stream",
     "text": [
      "Iterations: 1.31937e+07\n",
      "Probability = 7.58e-08\n"
     ]
    }
   ],
   "source": [
    "print(\"Iterations: %g\\nProbability = %.2e\" % (i, 1./i))"
   ]
  },
  {
   "cell_type": "code",
   "execution_count": 9,
   "metadata": {},
   "outputs": [
    {
     "name": "stdout",
     "output_type": "stream",
     "text": [
      "[ 2 10 12 16 24 39]\n"
     ]
    }
   ],
   "source": [
    "print(tmp)"
   ]
  },
  {
   "cell_type": "code",
   "execution_count": null,
   "metadata": {
    "collapsed": true
   },
   "outputs": [],
   "source": []
  }
 ],
 "metadata": {
  "kernelspec": {
   "display_name": "Python 3",
   "language": "python",
   "name": "python3"
  },
  "language_info": {
   "codemirror_mode": {
    "name": "ipython",
    "version": 3
   },
   "file_extension": ".py",
   "mimetype": "text/x-python",
   "name": "python",
   "nbconvert_exporter": "python",
   "pygments_lexer": "ipython3",
   "version": "3.6.2"
  }
 },
 "nbformat": 4,
 "nbformat_minor": 2
}
