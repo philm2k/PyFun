{
 "cells": [
  {
   "cell_type": "markdown",
   "metadata": {},
   "source": [
    "Source: http://www.quantatrisk.com/2014/12/22/quants-numpy-and-lotto/"
   ]
  },
  {
   "cell_type": "code",
   "execution_count": 31,
   "metadata": {
    "collapsed": true
   },
   "outputs": [],
   "source": [
    "import numpy as np\n",
    "\n",
    "def lotto_numbers():\n",
    "    ok = False\n",
    "    while not ok:\n",
    "        x = np.random.choice(45,6,replace=False)\n",
    "        x.sort()\n",
    "        tmp = np.where(x == 0)\n",
    "        (m, ) = tmp[0].shape\n",
    "        if(m==0):\n",
    "            ok = True\n",
    "    return x"
   ]
  },
  {
   "cell_type": "code",
   "execution_count": 32,
   "metadata": {
    "scrolled": true
   },
   "outputs": [
    {
     "name": "stdout",
     "output_type": "stream",
     "text": [
      "[ 4 11 12 25 28 39]\n"
     ]
    }
   ],
   "source": [
    "fav = lotto_numbers()\n",
    "print(fav)"
   ]
  },
  {
   "cell_type": "code",
   "execution_count": 33,
   "metadata": {
    "collapsed": true
   },
   "outputs": [],
   "source": [
    "match = False; i = 0"
   ]
  },
  {
   "cell_type": "code",
   "execution_count": 34,
   "metadata": {
    "collapsed": true
   },
   "outputs": [],
   "source": [
    "while not match:\n",
    "    tmp = lotto_numbers()\n",
    "    cmp = (tmp == fav)\n",
    "    i += 1\n",
    "    if cmp.all():\n",
    "        match = True"
   ]
  },
  {
   "cell_type": "code",
   "execution_count": 37,
   "metadata": {},
   "outputs": [
    {
     "name": "stdout",
     "output_type": "stream",
     "text": [
      "Iterations: 10359887\n",
      "Probability = 9.65e-08\n"
     ]
    }
   ],
   "source": [
    "print(\"Iterations: %s\\nProbability = %.2e\" % (i, 1./i))"
   ]
  },
  {
   "cell_type": "code",
   "execution_count": 36,
   "metadata": {},
   "outputs": [
    {
     "name": "stdout",
     "output_type": "stream",
     "text": [
      "[ 4 11 12 25 28 39]\n"
     ]
    }
   ],
   "source": [
    "print(tmp)"
   ]
  },
  {
   "cell_type": "markdown",
   "metadata": {
    "collapsed": true
   },
   "source": [
    "난수발생과 관련된 주요 개념(https://datascienceschool.net/view-notebook/8bf41f87a08b4c44b307799577736a28/)\n",
    "- np.random.seed\n",
    "- np.random.rand, np.random.randint, np.random.randn\n",
    "- np.random.shuffle, np.random.choice\n",
    "- np.unique, np.bincount\n",
    "\n",
    "#### 시드 설정하기\n",
    "np.random.seed(0과 같거나 큰 정수)\n",
    "컴퓨터 프로그램에서 무작위와 관련된 모든 알고리즘은 사실 무작위가 아니라 시작 숫자를 정해 주면 그 다음에는 정해진 알고리즘에 의해 마치 난수처럼 보이는 수열을 생성한다. 다시 말해 seed가 같으면 같은 난수가 나올 수 있다.\n",
    "\n",
    "#### 기존 데이터의 순서 바꾸기\n",
    "np.random.shuffle"
   ]
  },
  {
   "cell_type": "code",
   "execution_count": 39,
   "metadata": {},
   "outputs": [
    {
     "data": {
      "text/plain": [
       "array([7, 1, 8, 0, 6, 4, 2, 3, 9, 5])"
      ]
     },
     "execution_count": 39,
     "metadata": {},
     "output_type": "execute_result"
    }
   ],
   "source": [
    "x = np.arange(10)\n",
    "np.random.shuffle(x)\n",
    "x"
   ]
  },
  {
   "cell_type": "markdown",
   "metadata": {},
   "source": [
    "#### 기존의 데이터에서 샘플링하기\n",
    "numpy.randmom.choice(a, size=None, replace=Truie, p=none)\n",
    "- a: 배열이면 원래의 데이터, 정수이면 range(a)명령으로 데이터 생성\n",
    "- size: 정수. 샘플 숫자\n",
    "- replcae: 불리언. True이면 한 번 선택한 데이터를 다시 선택 가능\n",
    "- p: 배열. 각 데이터가 선택될 수 있는 확률"
   ]
  },
  {
   "cell_type": "markdown",
   "metadata": {},
   "source": [
    "#### 난수 생성\n",
    "nu.random의 난수를 생성하는 명령\n",
    "- rand: 0부터 1사이의 균일 분포\n",
    "- randn: 가우시안 표준 정규 분포\n",
    "- randint: 균일 분포의 정수 난수\n",
    "\n",
    "##### rand"
   ]
  },
  {
   "cell_type": "code",
   "execution_count": 40,
   "metadata": {},
   "outputs": [
    {
     "data": {
      "text/plain": [
       "array([ 0.50362094,  0.9454098 ,  0.18636374,  0.52852421,  0.09744062,\n",
       "        0.33319267,  0.69850052,  0.78486791,  0.21174798,  0.09545737])"
      ]
     },
     "execution_count": 40,
     "metadata": {},
     "output_type": "execute_result"
    }
   ],
   "source": [
    "np.random.rand(10)"
   ]
  },
  {
   "cell_type": "code",
   "execution_count": 42,
   "metadata": {},
   "outputs": [
    {
     "data": {
      "text/plain": [
       "array([[ 0.89466074,  0.33585856,  0.48700064,  0.38439877,  0.08448225],\n",
       "       [ 0.81880693,  0.1035215 ,  0.17133229,  0.17648138,  0.12725742],\n",
       "       [ 0.43419261,  0.82126339,  0.34627671,  0.69220106,  0.14099969],\n",
       "       [ 0.14189296,  0.75261888,  0.05312909,  0.0124499 ,  0.11073189]])"
      ]
     },
     "execution_count": 42,
     "metadata": {},
     "output_type": "execute_result"
    }
   ],
   "source": [
    "np.random.rand(4,5)"
   ]
  },
  {
   "cell_type": "markdown",
   "metadata": {},
   "source": [
    "##### randn"
   ]
  },
  {
   "cell_type": "code",
   "execution_count": 43,
   "metadata": {},
   "outputs": [
    {
     "data": {
      "text/plain": [
       "array([ 0.33384073, -0.81446217,  1.20509287, -2.05058709,  1.45147877,\n",
       "        0.4139947 , -0.40250545, -0.5290409 ,  0.21931236,  0.3592207 ])"
      ]
     },
     "execution_count": 43,
     "metadata": {},
     "output_type": "execute_result"
    }
   ],
   "source": [
    "np.random.randn(10)"
   ]
  },
  {
   "cell_type": "code",
   "execution_count": 44,
   "metadata": {},
   "outputs": [
    {
     "data": {
      "text/plain": [
       "array([[ 1.32940444, -0.0281287 ,  0.60902958,  0.40125681,  2.69691984],\n",
       "       [ 0.29638576, -1.4759738 , -0.45700281,  1.21701805,  0.12186244],\n",
       "       [-1.42579223, -1.07710469, -0.53872538, -1.61273387,  0.4528042 ],\n",
       "       [-1.57609635,  1.72001638,  0.45576208,  0.01639839,  1.00119316]])"
      ]
     },
     "execution_count": 44,
     "metadata": {},
     "output_type": "execute_result"
    }
   ],
   "source": [
    "np.random.randn(4,5)"
   ]
  },
  {
   "cell_type": "markdown",
   "metadata": {},
   "source": [
    "##### randint\n",
    "numpy.random.randint(low, high=None, size=None)\n",
    "- size: 난수의 숫자"
   ]
  },
  {
   "cell_type": "code",
   "execution_count": 45,
   "metadata": {},
   "outputs": [
    {
     "data": {
      "text/plain": [
       "array([5, 0, 2, 7, 0, 3, 1, 0, 2, 3])"
      ]
     },
     "execution_count": 45,
     "metadata": {},
     "output_type": "execute_result"
    }
   ],
   "source": [
    "np.random.randint(10, size=10)"
   ]
  },
  {
   "cell_type": "code",
   "execution_count": 47,
   "metadata": {},
   "outputs": [
    {
     "data": {
      "text/plain": [
       "array([38, 41, 55, 87, 18, 46, 77, 83, 94, 96])"
      ]
     },
     "execution_count": 47,
     "metadata": {},
     "output_type": "execute_result"
    }
   ],
   "source": [
    "np.random.randint(10,99, size=10)"
   ]
  },
  {
   "cell_type": "markdown",
   "metadata": {},
   "source": [
    "#### 정수 데이터 카운팅"
   ]
  },
  {
   "cell_type": "code",
   "execution_count": 48,
   "metadata": {},
   "outputs": [
    {
     "data": {
      "text/plain": [
       "array([ 2, 11, 34])"
      ]
     },
     "execution_count": 48,
     "metadata": {},
     "output_type": "execute_result"
    }
   ],
   "source": [
    "np.unique([11, 11, 2, 2, 34, 34])"
   ]
  },
  {
   "cell_type": "code",
   "execution_count": 53,
   "metadata": {},
   "outputs": [],
   "source": [
    "a = np.array(['a', 'b', 'b', 'c', 'a'])\n",
    "index, count = np.unique(a, return_counts=True)"
   ]
  },
  {
   "cell_type": "code",
   "execution_count": 54,
   "metadata": {},
   "outputs": [
    {
     "data": {
      "text/plain": [
       "array(['a', 'b', 'c'], \n",
       "      dtype='<U1')"
      ]
     },
     "execution_count": 54,
     "metadata": {},
     "output_type": "execute_result"
    }
   ],
   "source": [
    "index"
   ]
  },
  {
   "cell_type": "code",
   "execution_count": 55,
   "metadata": {},
   "outputs": [
    {
     "data": {
      "text/plain": [
       "array([2, 2, 1], dtype=int64)"
      ]
     },
     "execution_count": 55,
     "metadata": {},
     "output_type": "execute_result"
    }
   ],
   "source": [
    "count"
   ]
  },
  {
   "cell_type": "markdown",
   "metadata": {},
   "source": [
    "그러나 unique 명령은 데이터에 존재하는 값에 대해서만 갯수를 세므로 데이터 값이 나올 수 있음에도 불구하고 데이터가 하나도 없는 경우에는 정보를 주지 않는다. 예를 들어 주사위를 10번 던졌는데 6이 한 번도 나오지 않으면 이 값을 0으로 세어주지 않는다.\n",
    "\n",
    "따라서 데이터가 주사위를 던졌을 때 나오는 수처럼 특정 범위안의 수인 경우에는 bincount에 minlength 인수를 설정하여 쓰는 것이 더 편리하다. 이 때는 0 부터 minlength - 1 까지의 숫자에 대해 각각 카운트를 한다. 데이터가 없을 경우에는 카운트 값이 0이 된다."
   ]
  },
  {
   "cell_type": "code",
   "execution_count": 56,
   "metadata": {},
   "outputs": [
    {
     "data": {
      "text/plain": [
       "array([0, 2, 3, 1, 0, 0], dtype=int64)"
      ]
     },
     "execution_count": 56,
     "metadata": {},
     "output_type": "execute_result"
    }
   ],
   "source": [
    "np.bincount([1, 1, 2, 2, 2, 3], minlength=6)"
   ]
  },
  {
   "cell_type": "code",
   "execution_count": null,
   "metadata": {
    "collapsed": true
   },
   "outputs": [],
   "source": []
  }
 ],
 "metadata": {
  "kernelspec": {
   "display_name": "Python 3",
   "language": "python",
   "name": "python3"
  },
  "language_info": {
   "codemirror_mode": {
    "name": "ipython",
    "version": 3
   },
   "file_extension": ".py",
   "mimetype": "text/x-python",
   "name": "python",
   "nbconvert_exporter": "python",
   "pygments_lexer": "ipython3",
   "version": "3.6.3"
  }
 },
 "nbformat": 4,
 "nbformat_minor": 2
}
